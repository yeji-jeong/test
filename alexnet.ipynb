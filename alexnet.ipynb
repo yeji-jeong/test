{
  "nbformat": 4,
  "nbformat_minor": 0,
  "metadata": {
    "colab": {
      "provenance": [],
      "mount_file_id": "1DApL3QX296YYthbieJfaY1tcoGvvDMoD",
      "authorship_tag": "ABX9TyNqAeYBeyAOGtDpIrexXeWY",
      "include_colab_link": true
    },
    "kernelspec": {
      "name": "python3",
      "display_name": "Python 3"
    },
    "language_info": {
      "name": "python"
    },
    "accelerator": "GPU",
    "gpuClass": "standard"
  },
  "cells": [
    {
      "cell_type": "markdown",
      "metadata": {
        "id": "view-in-github",
        "colab_type": "text"
      },
      "source": [
        "<a href=\"https://colab.research.google.com/github/yeji-jeong/test/blob/master/alexnet.ipynb\" target=\"_parent\"><img src=\"https://colab.research.google.com/assets/colab-badge.svg\" alt=\"Open In Colab\"/></a>"
      ]
    },
    {
      "cell_type": "code",
      "execution_count": 54,
      "metadata": {
        "id": "IM4YACY22Ypk",
        "colab": {
          "base_uri": "https://localhost:8080/"
        },
        "outputId": "99f75625-5f61-4afd-d176-96234ff2c0bd"
      },
      "outputs": [
        {
          "output_type": "stream",
          "name": "stdout",
          "text": [
            "Mounted at /content/gdrive\n"
          ]
        }
      ],
      "source": [
        "import os\n",
        "import torch\n",
        "import torchvision\n",
        "import numpy as np\n",
        "import pandas as pd\n",
        "import torch.nn as nn\n",
        "import torch.optim as optim\n",
        "import torch.nn.functional as F\n",
        "from PIL import Image \n",
        "from torchvision import transforms, datasets\n",
        "from torch.utils.data import Dataset, DataLoader\n",
        "import matplotlib.pyplot as plt\n",
        "from google.colab import drive\n",
        "drive.mount('/content/gdrive',force_remount=True)\n",
        "\n"
      ]
    },
    {
      "cell_type": "code",
      "source": [
        "train_csv = pd.read_csv('gdrive/My Drive/fashion-mnist_train.csv', encoding = 'utf-8')\n",
        "test_csv = pd.read_csv('gdrive/My Drive/fashion-mnist_test.csv', encoding = 'utf-8')"
      ],
      "metadata": {
        "id": "RoljWtRo4gc9"
      },
      "execution_count": 55,
      "outputs": []
    },
    {
      "cell_type": "code",
      "source": [
        "print(torch.cuda.is_available())"
      ],
      "metadata": {
        "colab": {
          "base_uri": "https://localhost:8080/"
        },
        "id": "6qMQy_a94kAs",
        "outputId": "c6a32ec5-1540-42de-8d9d-92f95e6a758f"
      },
      "execution_count": 56,
      "outputs": [
        {
          "output_type": "stream",
          "name": "stdout",
          "text": [
            "True\n"
          ]
        }
      ]
    },
    {
      "cell_type": "code",
      "source": [
        "#global variable 정의\n",
        "EPOCHS=10\n",
        "BATCH_SIZE=512\n",
        "\n",
        "device=(\"cuda\" if torch.cuda.is_available() else \"cpu\")\n",
        "class_names = ['T-shirt/top', 'Trouser', 'Pullover', 'Dress', 'Coat',\n",
        "               'Sandal', 'Shirt', 'Sneaker', 'Bag', 'Ankle boot']"
      ],
      "metadata": {
        "id": "IagYyqow4mt0"
      },
      "execution_count": 57,
      "outputs": []
    },
    {
      "cell_type": "code",
      "source": [
        "class FashionDataset(Dataset):\n",
        "    #__init__함수는 Dataset객체가 생성 될 때 한번만 실행\n",
        "  def __init__(self,data,transform=None):\n",
        "      self.fashion_MNIST=list(data.values) #행들의 데이터\n",
        "      self.transform=transform\n",
        "\n",
        "      label,image=[],[]\n",
        "      #csv data를 row 하나씩 list에 저장\n",
        "      for i in self.fashion_MNIST:\n",
        "        label.append(i[0])\n",
        "        image.append(i[1:])\n",
        "      self.labels=np.asarray(label)#asarray:원본이 변경될 경우, 복사본도 변경\n",
        "      self.images=np.asarray(image).reshape(-1,28,28).astype(\"float32\")\n",
        "        #[batch_size, width, height, channel]\n",
        "        #batch_size=-1, 자동으로 batch size를 조정하겠다\n",
        "\n",
        "    #len():dataset의 숫자를 return\n",
        "  def __len__(self):\n",
        "    return len(self.images)\n",
        "\n",
        "    #get_item():특정된 label과 image를 return\n",
        "  def __getitem__(self,idx):\n",
        "    label=self.labels[idx]\n",
        "    image=self.images[idx]\n",
        "\n",
        "        #transform function전에 이미지를 numpy array에서 PIL로 transform\n",
        "    if self.transform is not None:\n",
        "        pil_image=Image.fromarray(np.uint8(image))\n",
        "        image=self.transform(pil_image)\n",
        "\n",
        "    return image,label\n",
        "\n",
        "#transform\n",
        "#alexnet의 input size는 227*227인데, fashion mnist는 28*28이기 때문에 transform func을 통해서 resize해줘야한다.\n",
        "#transform.Resize()는 PIL image에만 작동하기 때문에, numpy array를 PIL이미지로 바꿔준 것이다.\n",
        "\n",
        "AlexTransform=transforms.Compose([\n",
        "    transforms.Resize((227,227)),\n",
        "    transforms.ToTensor(),#PyTorch에서 주로 텐서 형태의 데이터로 작업, 입력데이터가 Numpy배열 또는 PIL이미지인 경우 ToTensor를 사용하여 텐서 형식으로 변환가능\n",
        "    transforms.Normalize((0.1307,), (0.3081,))#MNIST data set의 mean과 std\n",
        "])\n",
        "\n",
        "#DataLoader\n",
        "#학습에 쓰일 데이터 전체를 보관했다가, train함수가 batch 하나를 요구하면\n",
        "#batch size 개수 만큼 데이터를 꺼내서 준다\n",
        "train_loader=DataLoader(\n",
        "    FashionDataset(train_csv,transform=AlexTransform),\n",
        "    batch_size=BATCH_SIZE, shuffle=True)\n",
        "test_loader=DataLoader(\n",
        "    FashionDataset(test_csv,transform=AlexTransform),\n",
        "    batch_size = BATCH_SIZE, shuffle = True)\n",
        "\n",
        "#Show Images\n",
        "#image를 보여주기 위해 normalize된 이미지를 unnormalize한 후 그래프에 plot하는 함수\n",
        "def matplotlib_imshow(img):\n",
        "    img = img.mean(dim=0)\n",
        "    img = img*1307 + 0.3081  # unnormalize\n",
        "    npimg = img.numpy()\n",
        "    plt.imshow(npimg, cmap=\"Greys\")\n",
        "\n",
        "# get some random training images\n",
        "#iter를 사용하여 trainloade의 iterator를 만들고, next함수를 사용하여 interator의 첫번째 데이터부터 차례대로 가져온다.\n",
        "dataiter = iter(train_loader)\n",
        "images, labels = next(dataiter)\n",
        "\n",
        "\n",
        "for i in range(10):\n",
        "  plt.subplot(2,5,i+1)\n",
        "  img_grid= torchvision.utils.make_grid(images[i])\n",
        "  matplotlib_imshow(img_grid)\n",
        "  plt.title(class_names[labels[i]])\n",
        "  plt.axis(\"off\")"
      ],
      "metadata": {
        "colab": {
          "base_uri": "https://localhost:8080/",
          "height": 223
        },
        "id": "QAPJ7EKY40T_",
        "outputId": "41f3a2e5-d8d7-452e-c3e5-ef875cdd58c5"
      },
      "execution_count": 58,
      "outputs": [
        {
          "output_type": "display_data",
          "data": {
            "text/plain": [
              "<Figure size 432x288 with 10 Axes>"
            ],
            "image/png": "[encoded data removed]"
          },
          "metadata": {
            "needs_background": "light"
          }
        }
      ]
    },
    {
      "cell_type": "code",
      "source": [
        "class fasion_mnist_alexnet(nn.Module):\n",
        "    def __init__(self):\n",
        "        super().__init__()\n",
        "        self.conv1 = nn.Sequential(\n",
        "            nn.Conv2d(in_channels=1, out_channels=96, kernel_size=3, stride=4, padding=0),\n",
        "            nn.ReLU(),\n",
        "            nn.MaxPool2d(kernel_size=3, stride=2) #overlapping pooling\n",
        "        )\n",
        "        self.conv2 = nn.Sequential(\n",
        "            nn.Conv2d(96, 256, 3, 1, 2),\n",
        "            nn.ReLU(),\n",
        "            nn.MaxPool2d(3, 2)\n",
        "        )\n",
        "        self.conv3 = nn.Sequential(\n",
        "            nn.Conv2d(256, 384,3 , 1, 1),\n",
        "            nn.ReLU()\n",
        "        )\n",
        "        self.conv4 = nn.Sequential(\n",
        "            nn.Conv2d(384, 384, 3, 1, 1),\n",
        "            nn.ReLU()\n",
        "        )\n",
        "        self.conv5 = nn.Sequential(\n",
        "            nn.Conv2d(384, 256, 3, 1, 1),\n",
        "            nn.ReLU(),\n",
        "            nn.MaxPool2d(3, 2)\n",
        "        )\n",
        "\n",
        "        self.fc1 = nn.Linear(256 * 6 * 6, 4096)\n",
        "        self.fc2 = nn.Linear(4096, 4096)\n",
        "        self.fc3 = nn.Linear(4096, 10)\n",
        "\n",
        "    def forward(self, x):\n",
        "        out = self.conv1(x)\n",
        "        out = self.conv2(out)\n",
        "        out = self.conv3(out)\n",
        "        out = self.conv4(out)\n",
        "        out = self.conv5(out)\n",
        "        out = out.view(out.size(0), -1)\n",
        "\n",
        "        out = F.relu(self.fc1(out)) \n",
        "        out = F.dropout(out, 0.5) #dropout\n",
        "        out = F.relu(self.fc2(out))\n",
        "        out = F.dropout(out, 0.5)\n",
        "        out = self.fc3(out)\n",
        "        out = F.log_softmax(out, dim=1)\n",
        "\n",
        "        return out\n",
        "\n",
        "model = fasion_mnist_alexnet().to(device)\n",
        "criterion = F.nll_loss\n",
        "optimizer = optim.Adam(model.parameters())\n",
        "import torchsummary\n"
      ],
      "metadata": {
        "id": "XBCP1Ex545mD"
      },
      "execution_count": 63,
      "outputs": []
    },
    {
      "cell_type": "code",
      "source": [
        "#train function\n",
        "def train(model, device, train_loader, optimer, epoch):\n",
        "    #모델을 학습모드로 변환\n",
        "    model.train()\n",
        "    #내부적으로 iterator에 포함된 index가 존재. train()함수가 데이터를 요구하면 사전에 저장된 batch size만큼 return\n",
        "    for batch_idx, (data, target) in enumerate(train_loader):\n",
        "        target = target.type(torch.LongTensor)\n",
        "        data, target = data.to(device), target.to(device)\n",
        "        optimizer.zero_grad()#모든 model parameter의 gradient를 0으로 설정(다음 step에서는 다음 step에서만의 변화량을 구하도록 함)\n",
        "        output = model(data)\n",
        "        loss = criterion(output, target)\n",
        "        loss.backward()#backward로 미분하여 손실함수에 끼친 영향력(변화량)을 구하고 \n",
        "        optimizer.step() #optimizer.step을 통해 손실함수를 최적화하도록 파라미터를 업데이트\n",
        "        #batch_idx가 0-117,118//30=3.933\n",
        "        #이를 통해 4등분하여서 25%,50%,75%이렇게 나타내려고 하는 것(3.9이므로 마지막 값은 안나옴)\n",
        "        if (batch_idx + 1) % 30 == 0:\n",
        "            print(\"Train Epoch:{} [{}/{} ({:.0f}%)]\\tLoss: {:.6f}\".format(\n",
        "                epoch, batch_idx * len(data), len(train_loader.dataset),\n",
        "                100. * batch_idx / len(train_loader), loss.item()))"
      ],
      "metadata": {
        "id": "uQSy5lOZ48BT"
      },
      "execution_count": 67,
      "outputs": []
    },
    {
      "cell_type": "code",
      "source": [
        "\n",
        "\n",
        "#test function\n",
        "def test(model, device, test_loader,images):\n",
        "    model.eval()\n",
        "    test_loss = 0\n",
        "    correct = 0\n",
        "    sum=0\n",
        "    a=[] \n",
        "    b=[]\n",
        "    c=[]\n",
        "    wrong_pred,wrong_target=[],[]\n",
        "    with torch.no_grad():\n",
        "        for data, target in test_loader:\n",
        "            data, target = data.to(device), target.to(device)\n",
        "            output = model(data)\n",
        "            test_loss += criterion(output, target, reduction='sum').item()\n",
        "            pred = output.max(1, keepdim=True)[1]#max함수 안의 1은 어느 방향으로 max값을 찾을지를 의미, 출력된 max는 (값,index)인데 필요한 부분은 index(라벨)이므로 1의 값을 가져온다.\n",
        "            #0-9사이에서 가장 가능성이 높다고 예측한 답을 구한다\n",
        "            correct += pred.eq(target.view_as(pred)).sum().item()\n",
        "            #답이 맞다면 correct가 올라가게 되어 최종 출력되는 정확도 올라감\n",
        "            #pred.eq(target.view_as(pred))는 pred배열과 data가 일치하느냐, sum을 붙임으로 인해 개수의 합을 숫자로\n",
        "            for i in range(len(target)):\n",
        "              if pred[i]!=target[i]:\n",
        "                wrong_pred.append(class_names[pred[i]])\n",
        "                wrong_target.append(class_names[target[i]])\n",
        "        print(\"misclassfication된 Sandal 개수 : \",wrong_target.count(\"Sandal\"),\"/\",len(wrong_target))\n",
        "        for i in range(len(wrong_target)):\n",
        "            if wrong_target[i]==\"Sandal\":\n",
        "              if wrong_pred[i]==\"Sneaker\":\n",
        "                 b.append(i)\n",
        "              if wrong_pred[i]==\"Ankle boot\":\n",
        "                 c.append(i)\n",
        "        print(\"Sandal을 Sneaker로 misclassfication :{}/{} ({:.0f}%)\".format(len(b),wrong_target.count(\"Sandal\"),100*len(b)/wrong_target.count(\"Sandal\"))) \n",
        "        print(\"Sandal을 Ankle boot로 misclassfication :{}/{} ({:.0f}%)\".format(len(c),wrong_target.count(\"Sandal\"),100*len(c)/wrong_target.count(\"Sandal\")))\n",
        "\n",
        "        \n",
        "\n",
        "        test_loss /= len(test_loader.dataset)  # /= :왼쪽 변수에 오른쪽 값을 나누고, 그 결과를 왼쪽 변수에 할당 \n",
        "        print(\"\\nTest set: Average loss: {:.4f}, Accuracy: {}/{} ({:.0f}%)\\n\".format(\n",
        "            test_loss, correct, len(test_loader.dataset), 100. * correct / len(test_loader.dataset)))\n",
        "        print('='*50)\n",
        " \n",
        "      \n",
        "        "
      ],
      "metadata": {
        "id": "LKSxEmt94_Dj"
      },
      "execution_count": 68,
      "outputs": []
    },
    {
      "cell_type": "code",
      "source": [
        "#train\n",
        "for epoch in range(1, EPOCHS+1):\n",
        "    train(model, device, train_loader, optimizer, epoch)\n",
        "    test(model, device, test_loader,images)"
      ],
      "metadata": {
        "colab": {
          "base_uri": "https://localhost:8080/"
        },
        "id": "LCXo_LlzWcqz",
        "outputId": "1aaceae1-a377-4acd-ca54-7fbc43713ee0"
      },
      "execution_count": 69,
      "outputs": [
        {
          "output_type": "stream",
          "name": "stdout",
          "text": [
            "Train Epoch:1 [14848/60000 (25%)]\tLoss: 0.386435\n",
            "Train Epoch:1 [30208/60000 (50%)]\tLoss: 0.368129\n",
            "Train Epoch:1 [45568/60000 (75%)]\tLoss: 0.311988\n",
            "misclassfication된 Sandal 개수 :  31 / 1179\n",
            "Sandal을 Sneaker로 misclassfication :24/31 (77%)\n",
            "Sandal을 Ankle boot로 misclassfication :5/31 (16%)\n",
            "\n",
            "Test set: Average loss: 0.3157, Accuracy: 8821/10000 (88%)\n",
            "\n",
            "==================================================\n",
            "Train Epoch:2 [14848/60000 (25%)]\tLoss: 0.325871\n",
            "Train Epoch:2 [30208/60000 (50%)]\tLoss: 0.281835\n",
            "Train Epoch:2 [45568/60000 (75%)]\tLoss: 0.229018\n",
            "misclassfication된 Sandal 개수 :  35 / 1101\n",
            "Sandal을 Sneaker로 misclassfication :23/35 (66%)\n",
            "Sandal을 Ankle boot로 misclassfication :7/35 (20%)\n",
            "\n",
            "Test set: Average loss: 0.2917, Accuracy: 8899/10000 (89%)\n",
            "\n",
            "==================================================\n",
            "Train Epoch:3 [14848/60000 (25%)]\tLoss: 0.272956\n",
            "Train Epoch:3 [30208/60000 (50%)]\tLoss: 0.268955\n",
            "Train Epoch:3 [45568/60000 (75%)]\tLoss: 0.245811\n",
            "misclassfication된 Sandal 개수 :  29 / 959\n",
            "Sandal을 Sneaker로 misclassfication :19/29 (66%)\n",
            "Sandal을 Ankle boot로 misclassfication :7/29 (24%)\n",
            "\n",
            "Test set: Average loss: 0.2611, Accuracy: 9041/10000 (90%)\n",
            "\n",
            "==================================================\n",
            "Train Epoch:4 [14848/60000 (25%)]\tLoss: 0.278362\n",
            "Train Epoch:4 [30208/60000 (50%)]\tLoss: 0.301248\n",
            "Train Epoch:4 [45568/60000 (75%)]\tLoss: 0.224539\n",
            "misclassfication된 Sandal 개수 :  25 / 944\n",
            "Sandal을 Sneaker로 misclassfication :16/25 (64%)\n",
            "Sandal을 Ankle boot로 misclassfication :7/25 (28%)\n",
            "\n",
            "Test set: Average loss: 0.2485, Accuracy: 9056/10000 (91%)\n",
            "\n",
            "==================================================\n",
            "Train Epoch:5 [14848/60000 (25%)]\tLoss: 0.239868\n",
            "Train Epoch:5 [30208/60000 (50%)]\tLoss: 0.223993\n",
            "Train Epoch:5 [45568/60000 (75%)]\tLoss: 0.171896\n",
            "misclassfication된 Sandal 개수 :  28 / 856\n",
            "Sandal을 Sneaker로 misclassfication :18/28 (64%)\n",
            "Sandal을 Ankle boot로 misclassfication :7/28 (25%)\n",
            "\n",
            "Test set: Average loss: 0.2363, Accuracy: 9144/10000 (91%)\n",
            "\n",
            "==================================================\n",
            "Train Epoch:6 [14848/60000 (25%)]\tLoss: 0.213042\n",
            "Train Epoch:6 [30208/60000 (50%)]\tLoss: 0.225978\n",
            "Train Epoch:6 [45568/60000 (75%)]\tLoss: 0.234310\n",
            "misclassfication된 Sandal 개수 :  22 / 838\n",
            "Sandal을 Sneaker로 misclassfication :13/22 (59%)\n",
            "Sandal을 Ankle boot로 misclassfication :7/22 (32%)\n",
            "\n",
            "Test set: Average loss: 0.2278, Accuracy: 9162/10000 (92%)\n",
            "\n",
            "==================================================\n",
            "Train Epoch:7 [14848/60000 (25%)]\tLoss: 0.227256\n",
            "Train Epoch:7 [30208/60000 (50%)]\tLoss: 0.202636\n",
            "Train Epoch:7 [45568/60000 (75%)]\tLoss: 0.193782\n",
            "misclassfication된 Sandal 개수 :  26 / 807\n",
            "Sandal을 Sneaker로 misclassfication :17/26 (65%)\n",
            "Sandal을 Ankle boot로 misclassfication :4/26 (15%)\n",
            "\n",
            "Test set: Average loss: 0.2344, Accuracy: 9193/10000 (92%)\n",
            "\n",
            "==================================================\n",
            "Train Epoch:8 [14848/60000 (25%)]\tLoss: 0.203415\n",
            "Train Epoch:8 [30208/60000 (50%)]\tLoss: 0.242503\n",
            "Train Epoch:8 [45568/60000 (75%)]\tLoss: 0.201516\n",
            "misclassfication된 Sandal 개수 :  12 / 794\n",
            "Sandal을 Sneaker로 misclassfication :8/12 (67%)\n",
            "Sandal을 Ankle boot로 misclassfication :3/12 (25%)\n",
            "\n",
            "Test set: Average loss: 0.2202, Accuracy: 9206/10000 (92%)\n",
            "\n",
            "==================================================\n",
            "Train Epoch:9 [14848/60000 (25%)]\tLoss: 0.199072\n",
            "Train Epoch:9 [30208/60000 (50%)]\tLoss: 0.145089\n",
            "Train Epoch:9 [45568/60000 (75%)]\tLoss: 0.199467\n",
            "misclassfication된 Sandal 개수 :  17 / 875\n",
            "Sandal을 Sneaker로 misclassfication :8/17 (47%)\n",
            "Sandal을 Ankle boot로 misclassfication :6/17 (35%)\n",
            "\n",
            "Test set: Average loss: 0.2390, Accuracy: 9125/10000 (91%)\n",
            "\n",
            "==================================================\n",
            "Train Epoch:10 [14848/60000 (25%)]\tLoss: 0.183448\n",
            "Train Epoch:10 [30208/60000 (50%)]\tLoss: 0.184905\n",
            "Train Epoch:10 [45568/60000 (75%)]\tLoss: 0.184598\n",
            "misclassfication된 Sandal 개수 :  22 / 834\n",
            "Sandal을 Sneaker로 misclassfication :13/22 (59%)\n",
            "Sandal을 Ankle boot로 misclassfication :6/22 (27%)\n",
            "\n",
            "Test set: Average loss: 0.2296, Accuracy: 9166/10000 (92%)\n",
            "\n",
            "==================================================\n"
          ]
        }
      ]
    }
  ]
}